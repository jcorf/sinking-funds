{
 "cells": [
  {
   "cell_type": "code",
   "execution_count": 10,
   "id": "149a645d-7532-4b38-9671-5fd179929012",
   "metadata": {},
   "outputs": [],
   "source": [
    "def recalculate():\n",
    "    if (paycheck_frequency == \"BIMONTHLY\"):\n",
    "        return 24\n",
    "    elif (paycheck_frequency == \"BIWEEKLY\"):\n",
    "        return 26\n",
    "    else:\n",
    "        return None"
   ]
  },
  {
   "cell_type": "code",
   "execution_count": 11,
   "id": "dcb05721-debd-4153-9d3d-70ac669759cd",
   "metadata": {},
   "outputs": [
    {
     "ename": "SyntaxError",
     "evalue": "unexpected EOF while parsing (2166696846.py, line 9)",
     "output_type": "error",
     "traceback": [
      "\u001b[0;36m  File \u001b[0;32m\"/var/folders/3p/1zv2vtqj37d60qt1x8fppjtw0000gn/T/ipykernel_45864/2166696846.py\"\u001b[0;36m, line \u001b[0;32m9\u001b[0m\n\u001b[0;31m    recalculate(\u001b[0m\n\u001b[0m                ^\u001b[0m\n\u001b[0;31mSyntaxError\u001b[0m\u001b[0;31m:\u001b[0m unexpected EOF while parsing\n"
     ]
    }
   ],
   "source": [
    "class SinkingFund:\n",
    "    def __init__(self, name, goal, save, goal_date, paycheck_frequency=None):\n",
    "        self.name = name\n",
    "        self.goal = goal\n",
    "        self.saved = saved\n",
    "        self.goal_date = goal_date\n",
    "        self.paycheck_frequency=paycheck_frequency\n",
    "        \n",
    "        recalculate("
   ]
  },
  {
   "cell_type": "markdown",
   "id": "8c4342af-d7d8-4213-9d20-b07de7ddba10",
   "metadata": {},
   "source": [
    "### paycheck cycles"
   ]
  },
  {
   "cell_type": "code",
   "execution_count": null,
   "id": "06030f35-5457-4218-9dc4-00ef4babd059",
   "metadata": {},
   "outputs": [],
   "source": [
    "def remaining(saved, goal):\n",
    "    return(goal - saved)\n",
    "\n",
    "def previous_weekday(date):\n",
    "    if date.weekday() == 5:  # Saturday\n",
    "        return date - timedelta(days=1)\n",
    "    elif date.weekday() == 6:  # Sunday\n",
    "        return date - timedelta(days=2)\n",
    "    return date\n",
    "\n",
    "def remaining_paychecks(start_date, end_date):\n",
    "    if start_date > end_date:\n",
    "        return 0\n",
    "    \n",
    "    # Initialize the number of paychecks and the list of paycheck dates\n",
    "    paychecks = 0\n",
    "    paycheck_dates = []\n",
    "\n",
    "    # Loop through each month in the period\n",
    "    current_date = start_date\n",
    "    while current_date <= end_date:\n",
    "        # Check the 15th of the month\n",
    "        fifteenth_of_month = previous_weekday(current_date.replace(day=15))\n",
    "        if fifteenth_of_month >= start_date and fifteenth_of_month <= end_date:\n",
    "            paychecks += 1\n",
    "            paycheck_dates.append(fifteenth_of_month)\n",
    "        \n",
    "        # Check the last day of the month (30th or 31st)\n",
    "        next_month = current_date.replace(day=28) + timedelta(days=4)  # This will always jump to the next month\n",
    "        last_day_of_month = next_month - timedelta(days=next_month.day)\n",
    "        last_weekday_of_month = previous_weekday(last_day_of_month)\n",
    "        if last_weekday_of_month >= start_date and last_weekday_of_month <= end_date:\n",
    "            paychecks += 1\n",
    "            paycheck_dates.append(last_weekday_of_month)\n",
    "\n",
    "        # Move to the next month\n",
    "        current_date = next_month.replace(day=1)\n",
    "\n",
    "    return (paychecks, paycheck_dates)\n",
    "\n",
    "def save_per_paycheck(saved,goal,start_date,end_date, printValues=False):\n",
    "    num_paychecks_left, paycheck_dates = remaining_paychecks(start_date,end_date)\n",
    "    to_save = remaining(saved,goal) / num_paychecks_left\n",
    "    if printValues:\n",
    "        print(start_date.strftime(\"%Y-%m-%d\"), \" - $\", saved, \" -- CURRENT\", sep=\"\")\n",
    "    \n",
    "        for index, date in enumerate(paycheck_dates):\n",
    "            cum_amount = (index + 1) * to_save\n",
    "            current_date = date.strftime(\"%Y-%m-%d\")\n",
    "            formatted_value = f\"{cum_amount+saved:.2f}\"\n",
    "            print(f\"{current_date} - ${formatted_value}\")\n",
    "    return(round(to_save,3))"
   ]
  },
  {
   "cell_type": "code",
   "execution_count": 39,
   "id": "8680cbd2-7ed4-43f5-879f-dbdd2cfa3a3c",
   "metadata": {},
   "outputs": [],
   "source": [
    "class BiMonthly():\n",
    "    def __init__(self):\n",
    "        self.frequency = \"bimonthly\""
   ]
  },
  {
   "cell_type": "code",
   "execution_count": 40,
   "id": "5106fee9-d782-4552-a153-988ec05b39ad",
   "metadata": {},
   "outputs": [
    {
     "data": {
      "text/plain": [
       "<__main__.PerMonth at 0x7fa9c0022d90>"
      ]
     },
     "execution_count": 40,
     "metadata": {},
     "output_type": "execute_result"
    }
   ],
   "source": [
    "PerMonth(Frequency[\"BIMONTHLY\"])"
   ]
  },
  {
   "cell_type": "code",
   "execution_count": 36,
   "id": "bb90cc23-cc24-4f48-b5b8-c0756350752c",
   "metadata": {},
   "outputs": [
    {
     "data": {
      "text/plain": [
       "<Frequency.BIMONTHLY: 24>"
      ]
     },
     "execution_count": 36,
     "metadata": {},
     "output_type": "execute_result"
    }
   ],
   "source": [
    "Frequency[\"BIMONTHLY\"]"
   ]
  },
  {
   "cell_type": "code",
   "execution_count": 22,
   "id": "25e907a0-22cd-4f19-85c9-8cd80aa96805",
   "metadata": {},
   "outputs": [
    {
     "name": "stdout",
     "output_type": "stream",
     "text": [
      "Next paycheck date: 2024-12-20\n"
     ]
    }
   ],
   "source": [
    "from datetime import datetime, timedelta\n",
    "\n",
    "def next_biweekly_paycheck(last_paycheck_date: str) -> str:\n",
    "    \"\"\"\n",
    "    Calculate the date of the next biweekly paycheck.\n",
    "\n",
    "    Args:\n",
    "        last_paycheck_date (str): The last paycheck date in 'YYYY-MM-DD' format.\n",
    "\n",
    "    Returns:\n",
    "        str: The next paycheck date in 'YYYY-MM-DD' format.\n",
    "    \"\"\"\n",
    "    try:\n",
    "        # Parse the last paycheck date\n",
    "        last_date = datetime.strptime(last_paycheck_date, '%Y-%m-%d')\n",
    "        \n",
    "        # Calculate the next paycheck date by adding 14 days\n",
    "        next_date = last_date + timedelta(days=14)\n",
    "        \n",
    "        return next_date.strftime('%Y-%m-%d')\n",
    "    except ValueError:\n",
    "        raise ValueError(\"Invalid date format. Please use 'YYYY-MM-DD'.\")\n",
    "\n",
    "# Example usage:\n",
    "last_paycheck = \"2024-12-06\"  # Replace with the actual last paycheck date\n",
    "print(\"Next paycheck date:\", next_biweekly_paycheck(last_paycheck))"
   ]
  },
  {
   "cell_type": "code",
   "execution_count": null,
   "id": "ad64bcba-ad79-4fb8-93fe-d64dbdd62761",
   "metadata": {},
   "outputs": [],
   "source": []
  }
 ],
 "metadata": {
  "kernelspec": {
   "display_name": "Python 3 (ipykernel)",
   "language": "python",
   "name": "python3"
  },
  "language_info": {
   "codemirror_mode": {
    "name": "ipython",
    "version": 3
   },
   "file_extension": ".py",
   "mimetype": "text/x-python",
   "name": "python",
   "nbconvert_exporter": "python",
   "pygments_lexer": "ipython3",
   "version": "3.9.13"
  }
 },
 "nbformat": 4,
 "nbformat_minor": 5
}
